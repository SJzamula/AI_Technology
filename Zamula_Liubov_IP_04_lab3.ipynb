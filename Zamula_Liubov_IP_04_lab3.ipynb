{
  "nbformat": 4,
  "nbformat_minor": 0,
  "metadata": {
    "colab": {
      "provenance": [],
      "include_colab_link": true
    },
    "kernelspec": {
      "name": "python3",
      "display_name": "Python 3"
    },
    "language_info": {
      "name": "python"
    }
  },
  "cells": [
    {
      "cell_type": "markdown",
      "metadata": {
        "id": "view-in-github",
        "colab_type": "text"
      },
      "source": [
        "<a href=\"https://colab.research.google.com/github/SJzamula/AI_Technology/blob/lab3/Zamula_Liubov_IP_04_lab3.ipynb\" target=\"_parent\"><img src=\"https://colab.research.google.com/assets/colab-badge.svg\" alt=\"Open In Colab\"/></a>"
      ]
    },
    {
      "cell_type": "code",
      "execution_count": 32,
      "metadata": {
        "id": "oC1Kg07BJcz6"
      },
      "outputs": [],
      "source": [
        "import random\n",
        "import networkx as nx\n",
        "import matplotlib.pyplot as plt\n",
        "import heapq"
      ]
    },
    {
      "cell_type": "markdown",
      "source": [
        "На цьому етапі я додаю **add_road_sighns()** метод для моніторингу знаків, а також **add_intersection_info** та **get_intersection_info** для додавання знань про перехрестя.\n",
        "\n",
        "Крім того, для того, щоб відслідкувати покращення роботи графа, я помічаю у роботі виведення графа відвідані перехрестя жовтим кольором."
      ],
      "metadata": {
        "id": "3nfJ4jG7U3k3"
      }
    },
    {
      "cell_type": "code",
      "source": [
        "class RoadGraph:\n",
        "    def __init__(self, size):\n",
        "        self.size = size\n",
        "        self.G = self.generate_graph()\n",
        "        self.road_signs = {}\n",
        "\n",
        "    def generate_graph(self):\n",
        "      G = nx.grid_2d_graph(self.size, self.size)\n",
        "      return G\n",
        "\n",
        "    def remove_random_edges(self, num_edges_to_remove):\n",
        "      edges_removed = 0\n",
        "      while edges_removed < num_edges_to_remove:\n",
        "        edge = random.choice(list(self.G.edges))\n",
        "        self.G.remove_edge(*edge)\n",
        "        if nx.is_connected(self.G):\n",
        "          edges_removed += 1\n",
        "        else: self.G.add_edge(*edge)\n",
        "\n",
        "    def add_road_signs(self):\n",
        "      for node in self.G.nodes:\n",
        "        connected_nodes = list(self.G.neighbors(node))\n",
        "        self.road_signs[node] = connected_nodes\n",
        "        print(f\"Intersection {node} road signs: {connected_nodes}\")  # Test print\n",
        "\n",
        "    def add_intersection_info(self, intersection, info):\n",
        "      self.road_signs[intersection] = info\n",
        "\n",
        "    def get_intersection_info(self, intersection):\n",
        "      return self.road_signs.get(intersection, None)\n",
        "\n",
        "    def display_graph(self, path=None, visited=None):\n",
        "      pos = {(x, y): (y, -x) for x, y in self.G.nodes}\n",
        "      nx.draw(self.G, pos, with_labels=False, node_size=30, node_color='lightgray')\n",
        "\n",
        "      if path:\n",
        "        nx.draw(self.G, pos, with_labels=False, node_size=30, node_color='lightgray')\n",
        "        path_edges = list(zip(path, path[1:]))\n",
        "\n",
        "      if visited:\n",
        "        nx.draw_networkx_nodes(self.G, pos, nodelist=visited, node_color='yellow', node_size=30)\n",
        "\n",
        "      if path:\n",
        "        nx.draw_networkx_edges(self.G, pos, edgelist=path_edges, edge_color='blue', width=2)\n",
        "        nx.draw_networkx_nodes(self.G, pos, nodelist=path, node_color='blue', node_size=30)\n",
        "\n",
        "        nx.draw_networkx_nodes(self.G, pos, nodelist=[path[0]], node_color='green', node_size=30)\n",
        "        nx.draw_networkx_nodes(self.G, pos, nodelist=[path[-1]], node_color='red', node_size=30)\n",
        "\n",
        "      else:\n",
        "        nx.draw(self.G, pos, with_labels=False, node_size=30, node_color='lightgray')\n",
        "\n",
        "\n",
        "      plt.axis('off')\n",
        "      plt.show()\n",
        "\n",
        "\n",
        "road = RoadGraph(10)\n",
        "road.remove_random_edges(70)\n",
        "road.add_road_signs()\n",
        "\n",
        "#road.display_graph()"
      ],
      "metadata": {
        "id": "u_5B7lcvJjeH",
        "colab": {
          "base_uri": "https://localhost:8080/"
        },
        "outputId": "fa797c0b-547e-43be-ca56-e5192c553edc"
      },
      "execution_count": 33,
      "outputs": [
        {
          "output_type": "stream",
          "name": "stdout",
          "text": [
            "Intersection (0, 0) road signs: [(1, 0), (0, 1)]\n",
            "Intersection (0, 1) road signs: [(1, 1), (0, 0), (0, 2)]\n",
            "Intersection (0, 2) road signs: [(1, 2), (0, 1)]\n",
            "Intersection (0, 3) road signs: [(0, 4)]\n",
            "Intersection (0, 4) road signs: [(1, 4), (0, 3)]\n",
            "Intersection (0, 5) road signs: [(1, 5), (0, 6)]\n",
            "Intersection (0, 6) road signs: [(0, 5), (0, 7)]\n",
            "Intersection (0, 7) road signs: [(1, 7), (0, 6)]\n",
            "Intersection (0, 8) road signs: [(0, 9)]\n",
            "Intersection (0, 9) road signs: [(1, 9), (0, 8)]\n",
            "Intersection (1, 0) road signs: [(0, 0), (1, 1)]\n",
            "Intersection (1, 1) road signs: [(0, 1), (2, 1), (1, 0), (1, 2)]\n",
            "Intersection (1, 2) road signs: [(0, 2), (2, 2), (1, 1), (1, 3)]\n",
            "Intersection (1, 3) road signs: [(2, 3), (1, 2), (1, 4)]\n",
            "Intersection (1, 4) road signs: [(0, 4), (1, 3)]\n",
            "Intersection (1, 5) road signs: [(0, 5), (1, 6)]\n",
            "Intersection (1, 6) road signs: [(2, 6), (1, 5)]\n",
            "Intersection (1, 7) road signs: [(0, 7), (1, 8)]\n",
            "Intersection (1, 8) road signs: [(2, 8), (1, 7)]\n",
            "Intersection (1, 9) road signs: [(0, 9), (2, 9)]\n",
            "Intersection (2, 0) road signs: [(3, 0), (2, 1)]\n",
            "Intersection (2, 1) road signs: [(1, 1), (2, 0), (2, 2)]\n",
            "Intersection (2, 2) road signs: [(1, 2), (3, 2), (2, 1)]\n",
            "Intersection (2, 3) road signs: [(1, 3), (2, 4)]\n",
            "Intersection (2, 4) road signs: [(3, 4), (2, 3)]\n",
            "Intersection (2, 5) road signs: [(3, 5)]\n",
            "Intersection (2, 6) road signs: [(1, 6), (3, 6)]\n",
            "Intersection (2, 7) road signs: [(3, 7)]\n",
            "Intersection (2, 8) road signs: [(1, 8), (2, 9)]\n",
            "Intersection (2, 9) road signs: [(1, 9), (2, 8)]\n",
            "Intersection (3, 0) road signs: [(2, 0), (3, 1)]\n",
            "Intersection (3, 1) road signs: [(3, 0)]\n",
            "Intersection (3, 2) road signs: [(2, 2), (4, 2), (3, 3)]\n",
            "Intersection (3, 3) road signs: [(3, 2), (3, 4)]\n",
            "Intersection (3, 4) road signs: [(2, 4), (3, 3)]\n",
            "Intersection (3, 5) road signs: [(2, 5), (4, 5), (3, 6)]\n",
            "Intersection (3, 6) road signs: [(4, 6), (3, 5), (2, 6)]\n",
            "Intersection (3, 7) road signs: [(2, 7), (4, 7), (3, 8)]\n",
            "Intersection (3, 8) road signs: [(4, 8), (3, 7)]\n",
            "Intersection (3, 9) road signs: [(4, 9)]\n",
            "Intersection (4, 0) road signs: [(5, 0)]\n",
            "Intersection (4, 1) road signs: [(5, 1)]\n",
            "Intersection (4, 2) road signs: [(3, 2), (5, 2), (4, 3)]\n",
            "Intersection (4, 3) road signs: [(5, 3), (4, 2), (4, 4)]\n",
            "Intersection (4, 4) road signs: [(4, 3)]\n",
            "Intersection (4, 5) road signs: [(3, 5), (5, 5)]\n",
            "Intersection (4, 6) road signs: [(3, 6), (5, 6)]\n",
            "Intersection (4, 7) road signs: [(3, 7)]\n",
            "Intersection (4, 8) road signs: [(3, 8), (4, 9)]\n",
            "Intersection (4, 9) road signs: [(3, 9), (5, 9), (4, 8)]\n",
            "Intersection (5, 0) road signs: [(6, 0), (5, 1), (4, 0)]\n",
            "Intersection (5, 1) road signs: [(4, 1), (5, 0)]\n",
            "Intersection (5, 2) road signs: [(4, 2), (6, 2)]\n",
            "Intersection (5, 3) road signs: [(4, 3), (6, 3)]\n",
            "Intersection (5, 4) road signs: [(6, 4)]\n",
            "Intersection (5, 5) road signs: [(4, 5), (6, 5)]\n",
            "Intersection (5, 6) road signs: [(4, 6), (6, 6), (5, 7)]\n",
            "Intersection (5, 7) road signs: [(6, 7), (5, 6), (5, 8)]\n",
            "Intersection (5, 8) road signs: [(6, 8), (5, 7)]\n",
            "Intersection (5, 9) road signs: [(4, 9), (6, 9)]\n",
            "Intersection (6, 0) road signs: [(5, 0), (7, 0)]\n",
            "Intersection (6, 1) road signs: [(6, 2)]\n",
            "Intersection (6, 2) road signs: [(5, 2), (7, 2), (6, 1), (6, 3)]\n",
            "Intersection (6, 3) road signs: [(5, 3), (6, 2), (6, 4)]\n",
            "Intersection (6, 4) road signs: [(5, 4), (6, 3), (6, 5)]\n",
            "Intersection (6, 5) road signs: [(5, 5), (7, 5), (6, 4), (6, 6)]\n",
            "Intersection (6, 6) road signs: [(5, 6), (7, 6), (6, 5), (6, 7)]\n",
            "Intersection (6, 7) road signs: [(5, 7), (6, 6), (6, 8)]\n",
            "Intersection (6, 8) road signs: [(5, 8), (7, 8), (6, 7), (6, 9)]\n",
            "Intersection (6, 9) road signs: [(5, 9), (7, 9), (6, 8)]\n",
            "Intersection (7, 0) road signs: [(6, 0), (7, 1)]\n",
            "Intersection (7, 1) road signs: [(8, 1), (7, 0)]\n",
            "Intersection (7, 2) road signs: [(6, 2), (8, 2), (7, 3)]\n",
            "Intersection (7, 3) road signs: [(8, 3), (7, 2), (7, 4)]\n",
            "Intersection (7, 4) road signs: [(7, 3)]\n",
            "Intersection (7, 5) road signs: [(6, 5)]\n",
            "Intersection (7, 6) road signs: [(6, 6), (8, 6)]\n",
            "Intersection (7, 7) road signs: [(8, 7)]\n",
            "Intersection (7, 8) road signs: [(6, 8), (8, 8), (7, 9)]\n",
            "Intersection (7, 9) road signs: [(6, 9), (8, 9), (7, 8)]\n",
            "Intersection (8, 0) road signs: [(8, 1)]\n",
            "Intersection (8, 1) road signs: [(7, 1), (9, 1), (8, 0), (8, 2)]\n",
            "Intersection (8, 2) road signs: [(7, 2), (8, 1)]\n",
            "Intersection (8, 3) road signs: [(7, 3), (8, 4)]\n",
            "Intersection (8, 4) road signs: [(8, 3)]\n",
            "Intersection (8, 5) road signs: [(9, 5), (8, 6)]\n",
            "Intersection (8, 6) road signs: [(7, 6), (8, 5), (8, 7)]\n",
            "Intersection (8, 7) road signs: [(7, 7), (8, 6), (8, 8)]\n",
            "Intersection (8, 8) road signs: [(7, 8), (9, 8), (8, 7), (8, 9)]\n",
            "Intersection (8, 9) road signs: [(7, 9), (9, 9), (8, 8)]\n",
            "Intersection (9, 0) road signs: [(9, 1)]\n",
            "Intersection (9, 1) road signs: [(8, 1), (9, 2), (9, 0)]\n",
            "Intersection (9, 2) road signs: [(9, 1), (9, 3)]\n",
            "Intersection (9, 3) road signs: [(9, 2), (9, 4)]\n",
            "Intersection (9, 4) road signs: [(9, 3)]\n",
            "Intersection (9, 5) road signs: [(8, 5), (9, 6)]\n",
            "Intersection (9, 6) road signs: [(9, 5)]\n",
            "Intersection (9, 7) road signs: [(9, 8)]\n",
            "Intersection (9, 8) road signs: [(8, 8), (9, 7)]\n",
            "Intersection (9, 9) road signs: [(8, 9)]\n"
          ]
        }
      ]
    },
    {
      "cell_type": "markdown",
      "source": [
        "Клас **RoadKnowlegeBase** для отримання та оновлення інформації про перехрестя."
      ],
      "metadata": {
        "id": "bmRueloOVlre"
      }
    },
    {
      "cell_type": "code",
      "source": [
        "class RoadKnowlegeBase:\n",
        "  def __init__(self):\n",
        "    self.road_info = {}\n",
        "\n",
        "  def update_road(self, road, info):\n",
        "    self.road_info[road] = info\n",
        "\n",
        "  def get_road_info(self, road):\n",
        "    return self.road_info.get(road, None)"
      ],
      "metadata": {
        "id": "RBY6pw1_Cvct"
      },
      "execution_count": 34,
      "outputs": []
    },
    {
      "cell_type": "markdown",
      "source": [
        "В класі **CarAgent** додала 2 методи: **move_and_update_knowlege**, **is_valid_move**, а також модифікувала метод **find_route**.\n",
        "\n",
        "**move_and_update_knowlege** метод дозволяє оновлювати базу даних для кожного перехрестя та переходити на нове.\n",
        "\n",
        "**is_valid_move** перевіряє, чи в перехрестя наступного є якісь інші дороги, крім тієї, з якої ідеш. Якшо ні - то пропускається перехрестя  в **find_route**."
      ],
      "metadata": {
        "id": "Ap_Y4DnlWBQM"
      }
    },
    {
      "cell_type": "code",
      "source": [
        "class CarAgent:\n",
        "  def __init__(self, road, start, goal):\n",
        "    self.road = road\n",
        "    self.start = start\n",
        "    self.goal = goal\n",
        "    self.visited = set()\n",
        "    self.visited_intersections = set()\n",
        "    self.route = []\n",
        "    self.came_from = {}\n",
        "    self.knowlege_base = RoadKnowlegeBase()\n",
        "    self.current_position = start\n",
        "\n",
        "  def heuristic(self, a, b):\n",
        "    (x1, y1) = a\n",
        "    (x2, y2) = b\n",
        "    return abs(x1 - x2) + abs(y1 - y2)\n",
        "\n",
        "  def get_neighbors(self, node):\n",
        "    return list(self.road.G.neighbors(node))\n",
        "\n",
        "  def reconstruct_path(self, current):\n",
        "    total_path = [current]\n",
        "    while current in self.came_from:\n",
        "      current = self.came_from[current]\n",
        "      total_path.append(current)\n",
        "    total_path.reverse()\n",
        "    return total_path\n",
        "\n",
        "  def move_and_update_knowlege(self, new_position):\n",
        "    self.current_position = new_position\n",
        "    intersection_info = self.road.get_intersection_info(new_position)\n",
        "    self.knowlege_base.update_road(new_position, intersection_info)\n",
        "    self.visited_intersections.add(new_position)\n",
        "\n",
        "    print(f\"At intersection {new_position}, road signs: {intersection_info}\")\n",
        "\n",
        "  def estimate_road_cost(self, from_node, to_node):\n",
        "    road_info = self.knowlege_base.get_road_info((from_node, to_node))\n",
        "    if road_info:\n",
        "      if road_info.get('restriction', False):\n",
        "        return float('inf')\n",
        "      return road_info.get('cost', 1)\n",
        "    return 1\n",
        "\n",
        "  def is_valid_move(self, current, next_node):\n",
        "    next_node_signs = self.road.get_intersection_info(next_node)\n",
        "    if len(next_node_signs) == 1:\n",
        "      return False\n",
        "    return True\n",
        "\n",
        "  def find_route(self):\n",
        "    open_set = []\n",
        "    heapq.heappush(open_set, (0, self.start))\n",
        "\n",
        "    g_score = {node: float('inf') for node in self.road.G.nodes()}\n",
        "    g_score[self.start] = 0\n",
        "\n",
        "    f_score = {node: float('inf') for node in self.road.G.nodes()}\n",
        "    f_score[self.start] = self.heuristic(self.start, self.goal)\n",
        "\n",
        "    while open_set:\n",
        "      current = heapq.heappop(open_set)[1]\n",
        "      self.move_and_update_knowlege(current)\n",
        "\n",
        "      if current == self.goal:\n",
        "        self.route = self.reconstruct_path(current)\n",
        "        return self.route\n",
        "\n",
        "      self.visited.add(current)\n",
        "\n",
        "      for neighbor in self.get_neighbors(current):\n",
        "        if not self.is_valid_move(current, neighbor):\n",
        "          continue\n",
        "\n",
        "        tentative_g_score = g_score[current] + self.estimate_road_cost(current, neighbor)\n",
        "\n",
        "        if tentative_g_score < g_score[neighbor]:\n",
        "          self.came_from[neighbor] = current\n",
        "          g_score[neighbor] = tentative_g_score\n",
        "          f_score[neighbor] = tentative_g_score + self.heuristic(neighbor, self.goal)\n",
        "\n",
        "          if neighbor not in self.visited:\n",
        "            heapq.heappush(open_set, (f_score[neighbor], neighbor))\n",
        "\n",
        "    return False"
      ],
      "metadata": {
        "id": "60ovUI16JmFZ"
      },
      "execution_count": 35,
      "outputs": []
    },
    {
      "cell_type": "code",
      "source": [
        "start_point = (1, 0)\n",
        "goal_point = (9, 8)\n",
        "\n",
        "agent = CarAgent(road, start_point, goal_point)\n",
        "agent.find_route()\n",
        "\n",
        "road.display_graph(agent.route, visited=agent.visited_intersections)"
      ],
      "metadata": {
        "id": "vUf2US7YJq0I",
        "colab": {
          "base_uri": "https://localhost:8080/",
          "height": 1000
        },
        "outputId": "07248e44-1967-4251-c5d3-7cfecaf035b6"
      },
      "execution_count": 36,
      "outputs": [
        {
          "output_type": "stream",
          "name": "stdout",
          "text": [
            "At intersection (1, 0), road signs: [(0, 0), (1, 1)]\n",
            "At intersection (1, 1), road signs: [(0, 1), (2, 1), (1, 0), (1, 2)]\n",
            "At intersection (1, 2), road signs: [(0, 2), (2, 2), (1, 1), (1, 3)]\n",
            "At intersection (1, 3), road signs: [(2, 3), (1, 2), (1, 4)]\n",
            "At intersection (1, 4), road signs: [(0, 4), (1, 3)]\n",
            "At intersection (2, 1), road signs: [(1, 1), (2, 0), (2, 2)]\n",
            "At intersection (2, 2), road signs: [(1, 2), (3, 2), (2, 1)]\n",
            "At intersection (2, 3), road signs: [(1, 3), (2, 4)]\n",
            "At intersection (2, 4), road signs: [(3, 4), (2, 3)]\n",
            "At intersection (3, 2), road signs: [(2, 2), (4, 2), (3, 3)]\n",
            "At intersection (3, 3), road signs: [(3, 2), (3, 4)]\n",
            "At intersection (3, 4), road signs: [(2, 4), (3, 3)]\n",
            "At intersection (4, 2), road signs: [(3, 2), (5, 2), (4, 3)]\n",
            "At intersection (4, 3), road signs: [(5, 3), (4, 2), (4, 4)]\n",
            "At intersection (5, 2), road signs: [(4, 2), (6, 2)]\n",
            "At intersection (5, 3), road signs: [(4, 3), (6, 3)]\n",
            "At intersection (6, 2), road signs: [(5, 2), (7, 2), (6, 1), (6, 3)]\n",
            "At intersection (6, 3), road signs: [(5, 3), (6, 2), (6, 4)]\n",
            "At intersection (6, 4), road signs: [(5, 4), (6, 3), (6, 5)]\n",
            "At intersection (6, 5), road signs: [(5, 5), (7, 5), (6, 4), (6, 6)]\n",
            "At intersection (6, 6), road signs: [(5, 6), (7, 6), (6, 5), (6, 7)]\n",
            "At intersection (6, 7), road signs: [(5, 7), (6, 6), (6, 8)]\n",
            "At intersection (6, 8), road signs: [(5, 8), (7, 8), (6, 7), (6, 9)]\n",
            "At intersection (7, 2), road signs: [(6, 2), (8, 2), (7, 3)]\n",
            "At intersection (7, 3), road signs: [(8, 3), (7, 2), (7, 4)]\n",
            "At intersection (7, 6), road signs: [(6, 6), (8, 6)]\n",
            "At intersection (7, 8), road signs: [(6, 8), (8, 8), (7, 9)]\n",
            "At intersection (8, 2), road signs: [(7, 2), (8, 1)]\n",
            "At intersection (8, 3), road signs: [(7, 3), (8, 4)]\n",
            "At intersection (8, 6), road signs: [(7, 6), (8, 5), (8, 7)]\n",
            "At intersection (8, 7), road signs: [(7, 7), (8, 6), (8, 8)]\n",
            "At intersection (8, 8), road signs: [(7, 8), (9, 8), (8, 7), (8, 9)]\n",
            "At intersection (9, 8), road signs: [(8, 8), (9, 7)]\n"
          ]
        },
        {
          "output_type": "display_data",
          "data": {
            "text/plain": [
              "<Figure size 640x480 with 1 Axes>"
            ],
            "image/png": "[encoded data removed]"
          },
          "metadata": {}
        }
      ]
    }
  ]
}