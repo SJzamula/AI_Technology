{
  "nbformat": 4,
  "nbformat_minor": 0,
  "metadata": {
    "colab": {
      "provenance": [],
      "authorship_tag": "ABX9TyMmDE7mlEnLxChZ56pUZCOa",
      "include_colab_link": true
    },
    "kernelspec": {
      "name": "python3",
      "display_name": "Python 3"
    },
    "language_info": {
      "name": "python"
    }
  },
  "cells": [
    {
      "cell_type": "markdown",
      "metadata": {
        "id": "view-in-github",
        "colab_type": "text"
      },
      "source": [
        "<a href=\"https://colab.research.google.com/github/SJzamula/AI_Technology/blob/lab1/IP_04_Zamula_Liubov_AITechnology_Lab1.ipynb\" target=\"_parent\"><img src=\"https://colab.research.google.com/assets/colab-badge.svg\" alt=\"Open In Colab\"/></a>"
      ]
    },
    {
      "cell_type": "markdown",
      "source": [
        "The provided Python code defines a RoadGraph class to create, modify, and display a grid-based road network represented as a graph. The network is generated as a regular grid structure using NetworkX, where intersections are nodes, and roads are edges. The class allows for the removal of a specified number of random edges, simulating the elimination of certain roads in the network. The resulting graph is then visualized using Matplotlib and NetworkX, with intersections as nodes and roads as edges.\n",
        "\n",
        "**Detaily:**\n",
        "1. Class Initialization (__init__ method):\n",
        "\n",
        "The RoadGraph class is initialized with a parameter size, which determines the size of the grid (e.g., the number of intersections in both dimensions).\n",
        "The generate_graph method is called during initialization to create a grid-based graph using NetworkX, where intersections are represented as nodes, and road segments as edges. The graph is stored in the self.G attribute.\n",
        "\n",
        "\n",
        "2. Generating the Graph (generate_graph method):\n",
        "\n",
        "This method generates a grid-based graph using NetworkX's grid_2d_graph function. The size of the grid is specified by the size parameter. It creates nodes at each intersection and adds edges connecting adjacent intersections, forming a regular grid structure.\n",
        "\n",
        "\n",
        "3. Removing Random Edges (remove_random_edges method):\n",
        "\n",
        "This method takes the parameter num_edges_to_remove, which specifies how many random edges should be removed from the graph.\n",
        "It generates a list of random edges from the graph using random.sample and removes them using NetworkX's remove_edges_from function. This operation simulates the removal of roads or connections between intersections in the road network.\n",
        "\n",
        "\n",
        "4. Displaying the Graph (display_graph method):\n",
        "\n",
        "This method visualizes the generated graph using Matplotlib and NetworkX.\n",
        "It creates a layout (positions) for the nodes, flipping the y-coordinate to ensure the graph is displayed upright.\n",
        "The graph is drawn with nodes represented as small dots and without labels, and the edges are not labeled. The nodes are color-coded as 'lightgray'.\n",
        "The plt.axis('off') call hides the axis labels and ticks.\n",
        "The plt.show() function displays the graph as a figure.\n",
        "\n",
        "\n",
        "5. Usage:\n",
        "\n",
        "An instance of the RoadGraph class is created with a specified size (e.g., 5x5) and assigned to the graph variable.\n",
        "The remove_random_edges method is called with a specified number of edges to be removed.\n",
        "Finally, the display_graph method is called to visualize the modified road network.\n",
        "\n",
        "**In practice**, this code can be used to experiment with and visualize various road network scenarios. It enables users to generate grid-based road networks, remove road connections, and observe the resulting changes, making it a valuable tool for studying network connectivity and transportation planning."
      ],
      "metadata": {
        "id": "BedL_bmDqw92"
      }
    },
    {
      "cell_type": "code",
      "source": [
        "import random\n",
        "import networkx as nx\n",
        "import matplotlib.pyplot as plt"
      ],
      "metadata": {
        "id": "jZlwOsEBcJCa"
      },
      "execution_count": null,
      "outputs": []
    },
    {
      "cell_type": "code",
      "source": [
        "class RoadGraph:\n",
        "    def __init__(self, size):\n",
        "        self.size = size\n",
        "        self.G = self.generate_graph()\n",
        "\n",
        "    def generate_graph(self):\n",
        "      G = nx.grid_2d_graph(self.size, self.size)\n",
        "      return G\n",
        "\n",
        "    def remove_random_edges(self, num_edges_to_remove):\n",
        "      edges_to_remove = random.sample(self.G.edges, num_edges_to_remove)\n",
        "      self.G.remove_edges_from(edges_to_remove)\n",
        "\n",
        "    def display_graph(self):\n",
        "      pos = {(x, y): (y, -x) for x, y in self.G.nodes}\n",
        "      nx.draw(self.G, pos, with_labels=False, node_size=300, node_color='lightgray')\n",
        "      plt.axis('off')\n",
        "      plt.show()\n",
        "\n",
        "\n",
        "graph = RoadGraph(5)\n",
        "graph.remove_random_edges(7)\n",
        "\n",
        "graph.display_graph()\n"
      ],
      "metadata": {
        "id": "gVkh8UKZUuMA",
        "colab": {
          "base_uri": "https://localhost:8080/",
          "height": 568
        },
        "outputId": "10f63239-090a-4bcb-9aa4-09b200c33c5e"
      },
      "execution_count": null,
      "outputs": [
        {
          "output_type": "stream",
          "name": "stderr",
          "text": [
            "<ipython-input-35-7fd331a3b250>:11: DeprecationWarning: Sampling from a set deprecated\n",
            "since Python 3.9 and will be removed in a subsequent version.\n",
            "  edges_to_remove = random.sample(self.G.edges, num_edges_to_remove)\n"
          ]
        },
        {
          "output_type": "display_data",
          "data": {
            "text/plain": [
              "<Figure size 640x480 with 1 Axes>"
            ],
            "image/png": "[encoded data removed]"
          },
          "metadata": {}
        }
      ]
    }
  ]
}
