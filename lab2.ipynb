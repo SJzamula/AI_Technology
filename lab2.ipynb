{
  "nbformat": 4,
  "nbformat_minor": 0,
  "metadata": {
    "colab": {
      "provenance": [],
      "authorship_tag": "ABX9TyOoJsk01y1uuTDkNcWlcg7+",
      "include_colab_link": true
    },
    "kernelspec": {
      "name": "python3",
      "display_name": "Python 3"
    },
    "language_info": {
      "name": "python"
    }
  },
  "cells": [
    {
      "cell_type": "markdown",
      "metadata": {
        "id": "view-in-github",
        "colab_type": "text"
      },
      "source": [
        "<a href=\"https://colab.research.google.com/github/SJzamula/AI_Technology/blob/lab2/Zamula_Liubov_IP_04_lab2.ipynb\" target=\"_parent\"><img src=\"https://colab.research.google.com/assets/colab-badge.svg\" alt=\"Open In Colab\"/></a>"
      ]
    },
    {
      "cell_type": "code",
      "execution_count": 4,
      "metadata": {
        "id": "JY3YrSaz78rQ"
      },
      "outputs": [],
      "source": [
        "import random\n",
        "import networkx as nx\n",
        "import matplotlib.pyplot as plt\n",
        "import heapq"
      ]
    },
    {
      "cell_type": "markdown",
      "source": [
        "Class wich creates graph road and delete random edges.\n",
        "\n",
        "This class is responsible for generating and representing a road network as a graph.\n",
        "It is initialized with the size of the graph (grid) and generates the graph using NetworkX's grid_2d_graph function.\n",
        "\n",
        "It also provides methods to remove random edges from the graph and to display the graph, with the option to highlight a specific path."
      ],
      "metadata": {
        "id": "gn4e0Ptu8MSi"
      }
    },
    {
      "cell_type": "code",
      "source": [
        "class RoadGraph:\n",
        "    def __init__(self, size):\n",
        "        self.size = size\n",
        "        self.G = self.generate_graph()\n",
        "\n",
        "    def generate_graph(self):\n",
        "      G = nx.grid_2d_graph(self.size, self.size)\n",
        "      return G\n",
        "\n",
        "    def remove_random_edges(self, num_edges_to_remove):\n",
        "      edges_to_remove = random.sample(self.G.edges, num_edges_to_remove)\n",
        "      self.G.remove_edges_from(edges_to_remove)\n",
        "\n",
        "    def display_graph(self, path=None):\n",
        "      pos = {(x, y): (y, -x) for x, y in self.G.nodes}\n",
        "      if path:\n",
        "        nx.draw(self.G, pos, with_labels=False, node_size=300, node_color='lightgray')\n",
        "        path_edges = list(zip(path, path[1:]))\n",
        "        nx.draw_networkx_edges(self.G, pos, edgelist=path_edges, edge_color='blue', width=2)\n",
        "        nx.draw_networkx_nodes(self.G, pos, nodelist=path, node_color='blue', node_size=300)\n",
        "\n",
        "        nx.draw_networkx_nodes(self.G, pos, nodelist=[path[0]], node_color='green', node_size=300)\n",
        "        nx.draw_networkx_nodes(self.G, pos, nodelist=[path[-1]], node_color='red', node_size=300)\n",
        "\n",
        "      else:\n",
        "        nx.draw(self.G, pos, with_labels=False, node_size=300, node_color='lightgray')\n",
        "\n",
        "\n",
        "      plt.axis('off')\n",
        "      plt.show()\n",
        "\n",
        "\n",
        "road = RoadGraph(5)\n",
        "road.remove_random_edges(7)\n",
        "\n",
        "road.display_graph()"
      ],
      "metadata": {
        "colab": {
          "base_uri": "https://localhost:8080/",
          "height": 568
        },
        "id": "8kWIIgSW8GC6",
        "outputId": "c21c6cfc-33e5-4149-8b09-bd8a71c6af14"
      },
      "execution_count": 11,
      "outputs": [
        {
          "output_type": "stream",
          "name": "stderr",
          "text": [
            "<ipython-input-11-e7e93e7242b9>:11: DeprecationWarning: Sampling from a set deprecated\n",
            "since Python 3.9 and will be removed in a subsequent version.\n",
            "  edges_to_remove = random.sample(self.G.edges, num_edges_to_remove)\n"
          ]
        },
        {
          "output_type": "display_data",
          "data": {
            "text/plain": [
              "<Figure size 640x480 with 1 Axes>"
            ],
            "image/png": "[encoded data removed]"
          },
          "metadata": {}
        }
      ]
    },
    {
      "cell_type": "markdown",
      "source": [
        "This class represents a car agent that needs to find a path from a starting point to a goal point on the road network.\n",
        "It is initialized with the road graph, start and goal points, and initializes various data structures for pathfinding.\n",
        "\n",
        "The class contains methods for heuristic calculation, getting neighboring nodes, reconstructing the path, and finding the route using the A* algorithm.\n",
        "The A* algorithm uses a priority queue (open_set) and maintains g_score and f_score values for nodes, along with a came_from dictionary to reconstruct the path."
      ],
      "metadata": {
        "id": "jiftKsw_8b6X"
      }
    },
    {
      "cell_type": "code",
      "source": [
        "class CarAgent:\n",
        "  def __init__(self, road, start, goal):\n",
        "    self.road = road\n",
        "    self.start = start\n",
        "    self.goal = goal\n",
        "    self.visited = set()\n",
        "    self.route = []\n",
        "    self.came_from = {}\n",
        "\n",
        "  def heuristic(self, a, b):\n",
        "    (x1, y1) = a\n",
        "    (x2, y2) = b\n",
        "    return abs(x1 - x2) + abs(y1 - y2)\n",
        "\n",
        "  def get_neighbors(self, node):\n",
        "    return list(self.road.G.neighbors(node))\n",
        "\n",
        "  def reconstruct_path(self, current):\n",
        "    total_path = [current]\n",
        "    while current in self.came_from:\n",
        "      current = self.came_from[current]\n",
        "      total_path.append(current)\n",
        "    total_path.reverse()  # Optional: reverse the path to start->goal\n",
        "    return total_path\n",
        "\n",
        "  def find_route(self):\n",
        "    open_set = []\n",
        "    heapq.heappush(open_set, (0, self.start))  # Priority queue\n",
        "\n",
        "    g_score = {node: float('inf') for node in self.road.G.nodes()}\n",
        "    g_score[self.start] = 0\n",
        "\n",
        "    f_score = {node: float('inf') for node in self.road.G.nodes()}\n",
        "    f_score[self.start] = self.heuristic(self.start, self.goal)\n",
        "\n",
        "    while open_set:\n",
        "      current = heapq.heappop(open_set)[1]  # Get node with lowest f_score\n",
        "\n",
        "      if current == self.goal:\n",
        "        self.route = self.reconstruct_path(current)\n",
        "        return self.route  # Stop when the goal is reached\n",
        "\n",
        "      self.visited.add(current)\n",
        "\n",
        "      for neighbor in self.get_neighbors(current):\n",
        "        tentative_g_score = g_score[current] + 1  # Assuming all edges have the same weight (1)\n",
        "\n",
        "        if tentative_g_score < g_score[neighbor]:\n",
        "          self.came_from[neighbor] = current\n",
        "          g_score[neighbor] = tentative_g_score\n",
        "          f_score[neighbor] = tentative_g_score + self.heuristic(neighbor, self.goal)\n",
        "\n",
        "          if neighbor not in self.visited:\n",
        "            heapq.heappush(open_set, (f_score[neighbor], neighbor))\n",
        "\n",
        "    return False  # Return False i\n",
        "\n",
        "start_point = (0, 0)\n",
        "goal_point = (4, 4)\n",
        "\n",
        "agent = CarAgent(road, start_point, goal_point)\n",
        "agent.find_route()\n",
        "\n",
        "road.display_graph(agent.route)"
      ],
      "metadata": {
        "colab": {
          "base_uri": "https://localhost:8080/",
          "height": 516
        },
        "id": "kJQujeTp8gQB",
        "outputId": "54f7d9fd-a423-41c8-e61e-7192e4b06e1e"
      },
      "execution_count": 13,
      "outputs": [
        {
          "output_type": "display_data",
          "data": {
            "text/plain": [
              "<Figure size 640x480 with 1 Axes>"
            ],
            "image/png": "[encoded data removed]"
          },
          "metadata": {}
        }
      ]
    }
  ]
}
